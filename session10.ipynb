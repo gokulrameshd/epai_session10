{
 "cells": [
  {
   "cell_type": "code",
   "execution_count": 85,
   "metadata": {},
   "outputs": [],
   "source": [
    "from faker import  Faker\n",
    "from collections import namedtuple  \n",
    "import datetime\n",
    "from datetime import date \n",
    "from decimal import Decimal\n",
    "import numpy as np\n",
    "import statistics"
   ]
  },
  {
   "cell_type": "code",
   "execution_count": 86,
   "metadata": {},
   "outputs": [
    {
     "data": {
      "text/plain": [
       "{'job': 'Programmer, systems',\n",
       " 'company': 'Pitts Ltd',\n",
       " 'ssn': '454-80-4706',\n",
       " 'residence': '68955 Larson Pines\\nNew Charles, WV 19255',\n",
       " 'current_location': (Decimal('88.8511785'), Decimal('96.971182')),\n",
       " 'blood_group': 'O+',\n",
       " 'website': ['https://dixon.com/'],\n",
       " 'username': 'newtonmichael',\n",
       " 'name': 'Cole Zamora',\n",
       " 'sex': 'M',\n",
       " 'address': '92854 Troy Cape\\nKarenbury, SD 75640',\n",
       " 'mail': 'evansbobby@yahoo.com',\n",
       " 'birthdate': datetime.date(1919, 5, 3)}"
      ]
     },
     "execution_count": 86,
     "metadata": {},
     "output_type": "execute_result"
    }
   ],
   "source": [
    "fake = Faker()\n",
    "fake.profile()"
   ]
  },
  {
   "cell_type": "code",
   "execution_count": 87,
   "metadata": {},
   "outputs": [
    {
     "name": "stdout",
     "output_type": "stream",
     "text": [
      "23 years\n"
     ]
    }
   ],
   "source": [
    "# Python3 code to  calculate age in years \n",
    "def calculateAge(birthDate): \n",
    "    today = date.today() \n",
    "    age = today.year - birthDate.year - ((today.month, today.day) < (birthDate.month, birthDate.day)) \n",
    "  \n",
    "    return age \n",
    "      \n",
    "# Driver code  \n",
    "print(calculateAge(date(1997, 2, 3)), \"years\") "
   ]
  },
  {
   "cell_type": "code",
   "execution_count": 88,
   "metadata": {},
   "outputs": [],
   "source": [
    "# Declaring namedtuple()   \n",
    "# Use Faker library to get 10000 random profiles. Using namedtuple, calculate \n",
    "# the largest blood type, mean-current_location, oldest_person_age and average age (add proper doc-strings\n",
    "\n",
    "person = namedtuple('person',['name','blood_type','current_location','age','DOB']) "
   ]
  },
  {
   "cell_type": "code",
   "execution_count": 89,
   "metadata": {},
   "outputs": [],
   "source": [
    "'''{'job': 'Engineer, chemical',\n",
    " 'company': 'Abbott, Fields and Pena',\n",
    " 'ssn': '718-89-5935',\n",
    " 'residence': '0834 Allen Motorway Apt. 140\\nHoltstad, VT 92824',\n",
    " 'current_location': (Decimal('10.3555235'), Decimal('147.456652')),\n",
    " 'blood_group': 'B+',\n",
    " 'website': ['https://www.lewis.org/', 'http://www.smith.info/'],\n",
    " 'username': 'brusso',\n",
    " 'name': 'Lee Robles',\n",
    " 'sex': 'M',\n",
    " 'address': 'Unit 3108 Box 6521\\nDPO AP 51027',\n",
    " 'mail': 'stacie34@hotmail.com',\n",
    " 'birthdate': datetime.date(1932, 7, 24)}'''\n",
    "def get_named_tuple(population):\n",
    "    info_list = []\n",
    "    person = namedtuple('person',['name','blood_type','current_location','DOB']) \n",
    "    for i in range(population):\n",
    "        profile =  fake.profile()\n",
    "        p = person(profile['name'],profile['blood_group'],profile['current_location'],profile['birthdate'])\n",
    "        info_list.append(p)\n",
    "        \n",
    "    return info_list"
   ]
  },
  {
   "cell_type": "code",
   "execution_count": 90,
   "metadata": {},
   "outputs": [],
   "source": [
    "def cal_mean_current_location(name_tuple_list):\n",
    "    lan = []\n",
    "    lon = []\n",
    "#     age = []\n",
    "    for i in name_tuple_list:\n",
    "        lan.append(i.current_location)\n",
    "        lon.append(i.current_location)\n",
    "    return np.mean(lan),np.mean(lon)\n",
    "    \n"
   ]
  },
  {
   "cell_type": "code",
   "execution_count": 91,
   "metadata": {},
   "outputs": [
    {
     "data": {
      "text/plain": [
       "Decimal('14000.45')"
      ]
     },
     "execution_count": 91,
     "metadata": {},
     "output_type": "execute_result"
    }
   ],
   "source": [
    "from decimal import Decimal\n",
    "\n",
    "price = \"14000,45\"\n",
    "price_in_decimal = Decimal(price.replace(',','.'))\n",
    "price_in_decimal"
   ]
  },
  {
   "cell_type": "code",
   "execution_count": 92,
   "metadata": {},
   "outputs": [],
   "source": [
    "def named_tuple_cal(named_tuple_list):\n",
    "    t0 = datetime.datetime.now()\n",
    "    lan = []\n",
    "    lon = []\n",
    "    age = []\n",
    "    blood_group = []\n",
    "    for i in named_tuple_list:\n",
    "        lan.append(i.current_location[0])\n",
    "        lon.append(i.current_location[1])\n",
    "        age.append(calculateAge(i.DOB))\n",
    "        blood_group.append(i.blood_type)\n",
    "    result = statistics.mode(blood_group),(np.mean(lan),np.mean(lon)),np.max(age),np.mean(age)\n",
    "    t1 = datetime.datetime.now()\n",
    "    print(f'Time taken for claculation{t1-t0}')\n",
    "    return result , t1-t0"
   ]
  },
  {
   "cell_type": "code",
   "execution_count": 93,
   "metadata": {},
   "outputs": [],
   "source": [
    "named_tuple_list = get_named_tuple(population = 1000)\n",
    "                                   \n",
    "def named_tuple2dict_list(named_tuple_list):\n",
    "    dict_list = []\n",
    "    for i in named_tuple_list:\n",
    "        dict_list.append(dict(i._asdict()))\n",
    "    return dict_list"
   ]
  },
  {
   "cell_type": "code",
   "execution_count": 94,
   "metadata": {},
   "outputs": [],
   "source": [
    "def dict_cal(dict_list):\n",
    "    t0 = datetime.datetime.now()\n",
    "    lan = []\n",
    "    lon = []\n",
    "    age = []\n",
    "    blood_group = []\n",
    "    for i in dict_list:\n",
    "        lan.append(i['current_location'][0])\n",
    "        lon.append(i['current_location'][1])\n",
    "        age.append(calculateAge(i['DOB']))\n",
    "        blood_group.append(i['blood_type'])\n",
    "    result = statistics.mode(blood_group), (np.mean(lan),np.mean(lon)),np.max(age),np.mean(age)\n",
    "    t1 = datetime.datetime.now()\n",
    "    print(f'Time taken for claculation{t1-t0}')\n",
    "    return result,t1-t0"
   ]
  },
  {
   "cell_type": "code",
   "execution_count": 95,
   "metadata": {},
   "outputs": [
    {
     "name": "stdout",
     "output_type": "stream",
     "text": [
      "Time taken for claculation0:00:00.090921\n",
      "Time taken for claculation0:00:00.161689\n"
     ]
    }
   ],
   "source": [
    "nt_result , nt_time_consumption = named_tuple_cal(named_tuple_list)\n",
    "dict_result , dict_time_consumption = dict_cal(dict_list)"
   ]
  },
  {
   "cell_type": "code",
   "execution_count": 99,
   "metadata": {},
   "outputs": [
    {
     "data": {
      "text/plain": [
       "True"
      ]
     },
     "execution_count": 99,
     "metadata": {},
     "output_type": "execute_result"
    }
   ],
   "source": [
    "nt_time_consumption < dict_time_consumption"
   ]
  },
  {
   "cell_type": "code",
   "execution_count": 13,
   "metadata": {},
   "outputs": [
    {
     "data": {
      "text/plain": [
       "'Gardner, Anderson and Thompson'"
      ]
     },
     "execution_count": 13,
     "metadata": {},
     "output_type": "execute_result"
    }
   ],
   "source": [
    "fake.company()"
   ]
  },
  {
   "cell_type": "code",
   "execution_count": 14,
   "metadata": {},
   "outputs": [
    {
     "data": {
      "text/plain": [
       "651.23"
      ]
     },
     "execution_count": 14,
     "metadata": {},
     "output_type": "execute_result"
    }
   ],
   "source": [
    "# (name, symbol, open, high, close)\n",
    "import random\n",
    "def get_symbol(com_name,i):\n",
    "    symbol = str(i)\n",
    "    for c in com_name:\n",
    "        symbol += '_' + c[0]\n",
    "    return symbol\n",
    "def get_random_weights():\n",
    "    return random.uniform(0,100) \n",
    "def get_random_open():\n",
    "    return round((random.uniform(300,1000)),2)\n",
    "def get_high(open_value):\n",
    "    return round(open_value*(random.uniform(1,3.0)),3)\n",
    "def get_close(high_value):\n",
    "    return round(high_value*(random.uniform(0.2,1.2)),3)\n",
    "# def\n",
    "\n",
    "round((random.uniform(300,1000)),2)"
   ]
  },
  {
   "cell_type": "code",
   "execution_count": 15,
   "metadata": {},
   "outputs": [],
   "source": [
    "company = namedtuple('company',['name', \"symbol\", 'open', 'high', 'close'])"
   ]
  },
  {
   "cell_type": "code",
   "execution_count": 17,
   "metadata": {},
   "outputs": [],
   "source": [
    "\n",
    "\n",
    "def create_fake_companies_list(no_of_companies):\n",
    "    company = namedtuple('company',['com_name', \"symbol\", 'open_value', 'high_value', 'close_value','weight'])\n",
    "    companies_list = []\n",
    "    weight_list = []\n",
    "    for i in range(no_of_companies):\n",
    "        com_name = fake.company()\n",
    "        symbol = get_symbol(com_name,i)\n",
    "        weight = get_random_weights()\n",
    "        open_value = get_random_open()\n",
    "        high_value = get_high(open_value)\n",
    "        close_value = get_close(high_value)\n",
    "        companies_list.append(company(com_name,symbol, open_value, high_value, close_value ,weight))\n",
    "        weight_list.append(weight)\n",
    "    return companies_list,weight_list"
   ]
  },
  {
   "cell_type": "code",
   "execution_count": 18,
   "metadata": {},
   "outputs": [],
   "source": [
    "companies_list,weight_list = create_fake_companies_list(100)"
   ]
  },
  {
   "cell_type": "code",
   "execution_count": 31,
   "metadata": {},
   "outputs": [],
   "source": [
    "\n",
    "def get_stockmarket_points(companies_list,weight_list):\n",
    "    open_points = []\n",
    "    high_points = []\n",
    "    close_points = []\n",
    "    sum_weight = sum(weight_list)\n",
    "    for com in companies_list:\n",
    "        open_point = com.open_value * com.weight/sum_weight\n",
    "        high_point = com.high_value * com.weight/sum_weight\n",
    "        close_point = com.close_value * com.weight/sum_weight\n",
    "        open_points.append(open_point)\n",
    "        high_points.append(high_point)\n",
    "        close_points.append(close_point)\n",
    "    return round(sum(open_points),2),round(sum(high_points),2),round(sum(close_points),2)\n",
    "\n",
    "\n",
    "        \n",
    "open_point,high_point,close_point = get_stockmarket_points(companies_list,weight_list)    "
   ]
  },
  {
   "cell_type": "code",
   "execution_count": 80,
   "metadata": {},
   "outputs": [],
   "source": [
    "import matplotlib.pyplot as plt\n",
    "\n",
    "def get_seq_point(open_point,high_point,close_point):\n",
    "    seq = [high_point]\n",
    "#     for j in range(2):\n",
    "    for i  in range(5): \n",
    "        r1  = random.randrange(int(open_point-200), int(high_point), 1)\n",
    "        r2  = random.randrange(int(close_point-200), int(high_point), 1)\n",
    "        seq.append(r1)\n",
    "        seq.append(r2)\n",
    "        random.shuffle(seq)\n",
    "    seq1 = [open_point]+seq+[close_point]\n",
    "    return seq1\n",
    "\n"
   ]
  },
  {
   "cell_type": "code",
   "execution_count": 81,
   "metadata": {},
   "outputs": [],
   "source": [
    "def plot_stockmarket_points(seq):\n",
    "    plt.plot(seq)"
   ]
  },
  {
   "cell_type": "code",
   "execution_count": 82,
   "metadata": {},
   "outputs": [],
   "source": [
    "seq = get_seq_point(open_point,high_point,close_point)\n",
    "# seq"
   ]
  },
  {
   "cell_type": "code",
   "execution_count": 83,
   "metadata": {},
   "outputs": [
    {
     "data": {
      "text/plain": [
       "[<matplotlib.lines.Line2D at 0x2c9aec4bba8>]"
      ]
     },
     "execution_count": 83,
     "metadata": {},
     "output_type": "execute_result"
    },
    {
     "data": {
      "image/png": "[encoded data removed]",
      "text/plain": [
       "<Figure size 432x288 with 1 Axes>"
      ]
     },
     "metadata": {
      "needs_background": "light"
     },
     "output_type": "display_data"
    }
   ],
   "source": [
    "plt.plot(seq)"
   ]
  },
  {
   "cell_type": "code",
   "execution_count": null,
   "metadata": {},
   "outputs": [],
   "source": []
  },
  {
   "cell_type": "code",
   "execution_count": null,
   "metadata": {},
   "outputs": [],
   "source": []
  }
 ],
 "metadata": {
  "kernelspec": {
   "display_name": "Python 3",
   "language": "python",
   "name": "python3"
  },
  "language_info": {
   "codemirror_mode": {
    "name": "ipython",
    "version": 3
   },
   "file_extension": ".py",
   "mimetype": "text/x-python",
   "name": "python",
   "nbconvert_exporter": "python",
   "pygments_lexer": "ipython3",
   "version": "3.6.5"
  }
 },
 "nbformat": 4,
 "nbformat_minor": 2
}
